{
 "cells": [
  {
   "cell_type": "code",
   "execution_count": 1,
   "metadata": {},
   "outputs": [
    {
     "name": "stdout",
     "output_type": "stream",
     "text": [
      "\u001b[1m\u001b[32minside  points # 2481\u001b[0m\n",
      "\u001b[1m\u001b[31moutside points # 2519\u001b[0m\n",
      "\u001b[1masphericity: 0.5240566056401336\u001b[0m\n"
     ]
    },
    {
     "data": {
      "application/vnd.jupyter.widget-view+json": {
       "model_id": "9d30b92e0d784a3eb8b4d91a9f71f665",
       "version_major": 2,
       "version_minor": 0
      },
      "text/plain": [
       "Plot(antialias=True, axes=['x', 'y', 'z'], axes_helper=1.0, axes_helper_colors=[16711680, 65280, 255], backgro…"
      ]
     },
     "execution_count": 1,
     "metadata": {},
     "output_type": "execute_result"
    }
   ],
   "source": [
    "\"\"\"\n",
    "Draw the PCA (Principal Component Analysis) ellipsoid that contains\n",
    "50% of a cloud of a pointcloud, then check how many points are inside the surface.\n",
    "\"\"\"\n",
    "from vedo import *\n",
    "import numpy as np\n",
    "\n",
    "settings.default_backend = 'k3d'  # or k3d, ipyvtk, trame, or vtk\n",
    "\n",
    "plt = Plotter(size=(1000,500))\n",
    "\n",
    "pts = np.random.randn(5000, 3) * [3,2,1] # random gaussian point cloud\n",
    "\n",
    "elli = pca_ellipsoid(pts, pvalue=0.5)    # group of [ellipse, 3 axes]\n",
    "plt += elli\n",
    "\n",
    "ipts = elli.inside_points(pts)           # extract points inside mesh\n",
    "opts = elli.inside_points(pts, invert=True)\n",
    "plt += Points(ipts, c=\"g\")\n",
    "plt += Points(opts, c=\"r\")\n",
    "\n",
    "printc(\"inside  points #\", ipts.npoints, c='g')\n",
    "printc(\"outside points #\", opts.npoints, c='r')\n",
    "printc(\"asphericity:\", elli.asphericity())\n",
    "plt.show(axes=1)"
   ]
  },
  {
   "cell_type": "code",
   "execution_count": 4,
   "metadata": {},
   "outputs": [
    {
     "data": {
      "text/plain": [
       "<vedo.plotter.Plotter at 0x7ab377baa510>"
      ]
     },
     "execution_count": 4,
     "metadata": {},
     "output_type": "execute_result"
    }
   ],
   "source": [
    "plt.close()"
   ]
  },
  {
   "cell_type": "code",
   "execution_count": 1,
   "metadata": {},
   "outputs": [
    {
     "data": {
      "application/vnd.jupyter.widget-view+json": {
       "model_id": "0bc73d2483384de6a2260a6a1d38d052",
       "version_major": 2,
       "version_minor": 0
      },
      "text/plain": [
       "Plot(antialias=True, axes=['x', 'y', 'z'], axes_helper=1.0, axes_helper_colors=[16711680, 65280, 255], backgro…"
      ]
     },
     "execution_count": 1,
     "metadata": {},
     "output_type": "execute_result"
    }
   ],
   "source": [
    "from vedo import *\n",
    "\n",
    "settings.default_backend = 'k3d'  # or k3d, ipyvtk,trame or vtk\n",
    "\n",
    "sph = Sphere()\n",
    "sph.cut_with_plane(normal=(1,1,1))\n",
    "scalars = sph.vertices[:,2] # use z-coords to color vertices\n",
    "\n",
    "# NB, actions can be concatenated into a pipeline:\n",
    "# add point scalars with a choice of color map, use flat shading, print infos and then show\n",
    "sph.cmap('Set3', scalars).add_scalarbar()\n",
    "sph.show(axes=1, viewup='z')"
   ]
  },
  {
   "cell_type": "code",
   "execution_count": 2,
   "metadata": {},
   "outputs": [
    {
     "data": {
      "text/html": [
       "<table>\n",
       "<tr>\n",
       "<td>\n",
       "<img src='data:image/png;base64,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'></img>\n",
       "</td>\n",
       "<td style='text-align: center; vertical-align: center;'><br/>\n",
       "<b> Sphere: &nbsp&nbsp</b><b><a href=\"https://vedo.embl.es/docs/vedo/mesh.html#Mesh\" target=\"_blank\">vedo.mesh.Mesh</a></b>\n",
       "<table>\n",
       "<tr><td><b> bounds </b> <br/> (x/y/z) </td><td>-0.8135 ... 0.9977<br/>-0.8135 ... 0.9977<br/>-0.8146 ... 1.000</td></tr>\n",
       "<tr><td><b> center of mass </b></td><td>(0.155, 0.192, 0.361)</td></tr>\n",
       "<tr><td><b> average size </b></td><td>0.879</td></tr>\n",
       "<tr><td><b> nr. points&nbsp/&nbspfaces </b></td><td>657&nbsp/&nbsp1184</td></tr>\n",
       "<tr><td><b> point data array </b></td><td>Scalars</td></tr>\n",
       "\n",
       "</table>\n",
       "</table>"
      ],
      "text/plain": [
       "<vedo.shapes.Sphere at 0x7b2f931a2510>"
      ]
     },
     "execution_count": 2,
     "metadata": {},
     "output_type": "execute_result"
    }
   ],
   "source": [
    "sph"
   ]
  },
  {
   "cell_type": "markdown",
   "metadata": {},
   "source": []
  },
  {
   "cell_type": "code",
   "execution_count": 1,
   "metadata": {},
   "outputs": [
    {
     "data": {
      "application/vnd.jupyter.widget-view+json": {
       "model_id": "37fd4bc705914582a76309257136beb3",
       "version_major": 2,
       "version_minor": 0
      },
      "text/plain": [
       "Plot(antialias=True, axes=['x', 'y', 'z'], axes_helper=1.0, axes_helper_colors=[16711680, 65280, 255], backgro…"
      ]
     },
     "execution_count": 1,
     "metadata": {},
     "output_type": "execute_result"
    }
   ],
   "source": [
    "from vedo import *\n",
    "import numpy as np\n",
    "\n",
    "settings.default_backend = 'k3d'  # Using k3d in Jupyter\n",
    "\n",
    "# First object:\n",
    "man = Mesh('https://vedo.embl.es/examples/data/man.vtk')\n",
    "man.c('white').lighting('glossy')\n",
    "plt1 = Plotter()\n",
    "plt1.show(man, resetcam=True, interactive=True)\n",
    "\n",
    "# Second object:\n",
    "cube = Cube().c('green')\n",
    "plt2 = Plotter()\n",
    "plt2.show(cube, resetcam=True, interactive=True)\n"
   ]
  },
  {
   "cell_type": "code",
   "execution_count": 2,
   "metadata": {},
   "outputs": [
    {
     "data": {
      "application/vnd.jupyter.widget-view+json": {
       "model_id": "049cffeb31994c7e81e02e188c935d81",
       "version_major": 2,
       "version_minor": 0
      },
      "text/plain": [
       "Plot(antialias=True, axes=['x', 'y', 'z'], axes_helper=1.0, axes_helper_colors=[16711680, 65280, 255], backgro…"
      ]
     },
     "execution_count": 2,
     "metadata": {},
     "output_type": "execute_result"
    }
   ],
   "source": [
    "plt1.show()"
   ]
  },
  {
   "cell_type": "code",
   "execution_count": 6,
   "metadata": {},
   "outputs": [
    {
     "data": {
      "application/vnd.jupyter.widget-view+json": {
       "model_id": "4b505e617d1743588c039b0c687c1ad5",
       "version_major": 2,
       "version_minor": 0
      },
      "text/plain": [
       "Plot(antialias=True, axes=['x', 'y', 'z'], axes_helper=1.0, axes_helper_colors=[16711680, 65280, 255], backgro…"
      ]
     },
     "execution_count": 6,
     "metadata": {},
     "output_type": "execute_result"
    }
   ],
   "source": [
    "plt2.show()"
   ]
  },
  {
   "cell_type": "code",
   "execution_count": null,
   "metadata": {},
   "outputs": [],
   "source": []
  }
 ],
 "metadata": {
  "kernelspec": {
   "display_name": "py313_kormi_env",
   "language": "python",
   "name": "python3"
  },
  "language_info": {
   "codemirror_mode": {
    "name": "ipython",
    "version": 3
   },
   "file_extension": ".py",
   "mimetype": "text/x-python",
   "name": "python",
   "nbconvert_exporter": "python",
   "pygments_lexer": "ipython3",
   "version": "3.13.1"
  }
 },
 "nbformat": 4,
 "nbformat_minor": 2
}
